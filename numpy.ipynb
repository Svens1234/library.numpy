{
 "cells": [
  {
   "cell_type": "code",
   "execution_count": 1,
   "id": "54e74d3c",
   "metadata": {},
   "outputs": [],
   "source": [
    "import numpy as np"
   ]
  },
  {
   "cell_type": "code",
   "execution_count": 3,
   "id": "73c4368f",
   "metadata": {},
   "outputs": [
    {
     "data": {
      "text/plain": [
       "array([1, 2, 3])"
      ]
     },
     "execution_count": 3,
     "metadata": {},
     "output_type": "execute_result"
    }
   ],
   "source": [
    "np.array([1, 2, 3])"
   ]
  },
  {
   "cell_type": "code",
   "execution_count": 4,
   "id": "17cbe6b4",
   "metadata": {},
   "outputs": [],
   "source": [
    "odd_number_list = [1, 3, 5, 7]"
   ]
  },
  {
   "cell_type": "code",
   "execution_count": 5,
   "id": "652cbe93",
   "metadata": {},
   "outputs": [
    {
     "data": {
      "text/plain": [
       "array([1, 3, 5, 7])"
      ]
     },
     "execution_count": 5,
     "metadata": {},
     "output_type": "execute_result"
    }
   ],
   "source": [
    "np.array(odd_number_list)"
   ]
  },
  {
   "cell_type": "code",
   "execution_count": 6,
   "id": "a97aa50b",
   "metadata": {},
   "outputs": [],
   "source": [
    "two_dim_list = [[1, 1, 1], [2, 2, 2], [3, 3, 3]]"
   ]
  },
  {
   "cell_type": "code",
   "execution_count": 7,
   "id": "930bc996",
   "metadata": {},
   "outputs": [
    {
     "data": {
      "text/plain": [
       "array([[1, 1, 1],\n",
       "       [2, 2, 2],\n",
       "       [3, 3, 3]])"
      ]
     },
     "execution_count": 7,
     "metadata": {},
     "output_type": "execute_result"
    }
   ],
   "source": [
    "np.array(two_dim_list)"
   ]
  },
  {
   "cell_type": "code",
   "execution_count": 8,
   "id": "57ff5fa7",
   "metadata": {},
   "outputs": [
    {
     "data": {
      "text/plain": [
       "array([0, 1, 2, 3, 4, 5, 6, 7, 8])"
      ]
     },
     "execution_count": 8,
     "metadata": {},
     "output_type": "execute_result"
    }
   ],
   "source": [
    "np.arange(0, 9)"
   ]
  },
  {
   "cell_type": "code",
   "execution_count": 9,
   "id": "b0303742",
   "metadata": {},
   "outputs": [
    {
     "data": {
      "text/plain": [
       "array([0, 2, 4, 6, 8])"
      ]
     },
     "execution_count": 9,
     "metadata": {},
     "output_type": "execute_result"
    }
   ],
   "source": [
    "np.arange(0, 10, 2)"
   ]
  },
  {
   "cell_type": "code",
   "execution_count": 10,
   "id": "2bbdcffa",
   "metadata": {},
   "outputs": [
    {
     "data": {
      "text/plain": [
       "array([0., 0., 0., 0., 0., 0., 0., 0.])"
      ]
     },
     "execution_count": 10,
     "metadata": {},
     "output_type": "execute_result"
    }
   ],
   "source": [
    "np.zeros(8)"
   ]
  },
  {
   "cell_type": "code",
   "execution_count": 12,
   "id": "26723ebd",
   "metadata": {},
   "outputs": [
    {
     "data": {
      "text/plain": [
       "array([[0., 0., 0.],\n",
       "       [0., 0., 0.]])"
      ]
     },
     "execution_count": 12,
     "metadata": {},
     "output_type": "execute_result"
    }
   ],
   "source": [
    "np.zeros((2, 3))"
   ]
  },
  {
   "cell_type": "code",
   "execution_count": 13,
   "id": "2a135eaa",
   "metadata": {},
   "outputs": [
    {
     "data": {
      "text/plain": [
       "array([[0., 0.],\n",
       "       [0., 0.],\n",
       "       [0., 0.]])"
      ]
     },
     "execution_count": 13,
     "metadata": {},
     "output_type": "execute_result"
    }
   ],
   "source": [
    "np.zeros((3, 2))"
   ]
  },
  {
   "cell_type": "code",
   "execution_count": 14,
   "id": "c8e53f8e",
   "metadata": {},
   "outputs": [
    {
     "data": {
      "text/plain": [
       "array([1., 1., 1., 1.])"
      ]
     },
     "execution_count": 14,
     "metadata": {},
     "output_type": "execute_result"
    }
   ],
   "source": [
    "np.ones(4)"
   ]
  },
  {
   "cell_type": "code",
   "execution_count": 16,
   "id": "a4e0ea5e",
   "metadata": {},
   "outputs": [
    {
     "data": {
      "text/plain": [
       "array([[1., 1., 1.],\n",
       "       [1., 1., 1.]])"
      ]
     },
     "execution_count": 16,
     "metadata": {},
     "output_type": "execute_result"
    }
   ],
   "source": [
    "np.ones((2,3))"
   ]
  },
  {
   "cell_type": "code",
   "execution_count": 17,
   "id": "377baaaf",
   "metadata": {},
   "outputs": [
    {
     "data": {
      "text/plain": [
       "array([0.  , 1.25, 2.5 , 3.75, 5.  ])"
      ]
     },
     "execution_count": 17,
     "metadata": {},
     "output_type": "execute_result"
    }
   ],
   "source": [
    "np.linspace(0,5,5)"
   ]
  },
  {
   "cell_type": "code",
   "execution_count": 18,
   "id": "f267dde0",
   "metadata": {},
   "outputs": [
    {
     "data": {
      "text/plain": [
       "array([ 0. ,  2.5,  5. ,  7.5, 10. ])"
      ]
     },
     "execution_count": 18,
     "metadata": {},
     "output_type": "execute_result"
    }
   ],
   "source": [
    "np.linspace(0,10,5)"
   ]
  },
  {
   "cell_type": "code",
   "execution_count": 20,
   "id": "24b0a990",
   "metadata": {},
   "outputs": [
    {
     "data": {
      "text/plain": [
       "array([[1., 0., 0.],\n",
       "       [0., 1., 0.],\n",
       "       [0., 0., 1.]])"
      ]
     },
     "execution_count": 20,
     "metadata": {},
     "output_type": "execute_result"
    }
   ],
   "source": [
    "np.eye(3)#identity matrix"
   ]
  },
  {
   "cell_type": "code",
   "execution_count": 21,
   "id": "b203989e",
   "metadata": {},
   "outputs": [
    {
     "data": {
      "text/plain": [
       "array([[1., 0., 0., 0., 0., 0.],\n",
       "       [0., 1., 0., 0., 0., 0.],\n",
       "       [0., 0., 1., 0., 0., 0.],\n",
       "       [0., 0., 0., 1., 0., 0.],\n",
       "       [0., 0., 0., 0., 1., 0.],\n",
       "       [0., 0., 0., 0., 0., 1.]])"
      ]
     },
     "execution_count": 21,
     "metadata": {},
     "output_type": "execute_result"
    }
   ],
   "source": [
    "np.eye(6)"
   ]
  },
  {
   "cell_type": "code",
   "execution_count": 22,
   "id": "183afc99",
   "metadata": {},
   "outputs": [
    {
     "data": {
      "text/plain": [
       "array([0.09542302, 0.68158592, 0.71988529])"
      ]
     },
     "execution_count": 22,
     "metadata": {},
     "output_type": "execute_result"
    }
   ],
   "source": [
    "np.random.rand(3)"
   ]
  },
  {
   "cell_type": "code",
   "execution_count": 23,
   "id": "7ddd1b11",
   "metadata": {},
   "outputs": [
    {
     "data": {
      "text/plain": [
       "array([0.40423092, 0.12041601, 0.60640589, 0.28596349, 0.15243138,\n",
       "       0.75732766])"
      ]
     },
     "execution_count": 23,
     "metadata": {},
     "output_type": "execute_result"
    }
   ],
   "source": [
    "np.random.rand(6)"
   ]
  },
  {
   "cell_type": "code",
   "execution_count": 24,
   "id": "b609b96d",
   "metadata": {},
   "outputs": [
    {
     "data": {
      "text/plain": [
       "array([[8.08750692e-01, 4.95955176e-01, 2.92443688e-01, 7.27835073e-01],\n",
       "       [7.63073032e-01, 2.98933741e-04, 3.02114736e-01, 3.11408194e-01],\n",
       "       [6.89524273e-01, 1.48627565e-01, 4.93126156e-01, 5.70723489e-02]])"
      ]
     },
     "execution_count": 24,
     "metadata": {},
     "output_type": "execute_result"
    }
   ],
   "source": [
    "np.random.rand(3,4)"
   ]
  },
  {
   "cell_type": "code",
   "execution_count": 25,
   "id": "996a6ba2",
   "metadata": {},
   "outputs": [
    {
     "data": {
      "text/plain": [
       "array([ 0.28158928, -1.53835314, -0.91002784,  0.46500497, -0.25052296,\n",
       "        0.13699199])"
      ]
     },
     "execution_count": 25,
     "metadata": {},
     "output_type": "execute_result"
    }
   ],
   "source": [
    "np.random.randn(6)"
   ]
  },
  {
   "cell_type": "code",
   "execution_count": 27,
   "id": "c08eab56",
   "metadata": {},
   "outputs": [
    {
     "data": {
      "text/plain": [
       "array([ 6, 21, 41, 22, 46, 37,  6, 14, 31, 30])"
      ]
     },
     "execution_count": 27,
     "metadata": {},
     "output_type": "execute_result"
    }
   ],
   "source": [
    "np.random.randint(0,50,10)"
   ]
  },
  {
   "cell_type": "code",
   "execution_count": 28,
   "id": "802d1adf",
   "metadata": {},
   "outputs": [],
   "source": [
    "rand_arr = np.random.randint(0,50,20)"
   ]
  },
  {
   "cell_type": "code",
   "execution_count": 29,
   "id": "4f18da20",
   "metadata": {},
   "outputs": [
    {
     "data": {
      "text/plain": [
       "array([17,  4, 12, 38, 41, 13, 11,  2, 10, 41, 11, 27, 25,  9, 20, 42, 47,\n",
       "       10,  8, 42])"
      ]
     },
     "execution_count": 29,
     "metadata": {},
     "output_type": "execute_result"
    }
   ],
   "source": [
    "rand_arr"
   ]
  },
  {
   "cell_type": "code",
   "execution_count": 30,
   "id": "eb11fb11",
   "metadata": {},
   "outputs": [
    {
     "data": {
      "text/plain": [
       "47"
      ]
     },
     "execution_count": 30,
     "metadata": {},
     "output_type": "execute_result"
    }
   ],
   "source": [
    "rand_arr.max()"
   ]
  },
  {
   "cell_type": "code",
   "execution_count": 31,
   "id": "d1242980",
   "metadata": {},
   "outputs": [
    {
     "data": {
      "text/plain": [
       "16"
      ]
     },
     "execution_count": 31,
     "metadata": {},
     "output_type": "execute_result"
    }
   ],
   "source": [
    "rand_arr.argmax()"
   ]
  },
  {
   "cell_type": "code",
   "execution_count": 32,
   "id": "95abb128",
   "metadata": {},
   "outputs": [
    {
     "data": {
      "text/plain": [
       "2"
      ]
     },
     "execution_count": 32,
     "metadata": {},
     "output_type": "execute_result"
    }
   ],
   "source": [
    "rand_arr.min()"
   ]
  },
  {
   "cell_type": "code",
   "execution_count": 33,
   "id": "8e1d2bc6",
   "metadata": {},
   "outputs": [
    {
     "data": {
      "text/plain": [
       "7"
      ]
     },
     "execution_count": 33,
     "metadata": {},
     "output_type": "execute_result"
    }
   ],
   "source": [
    "rand_arr.argmin()"
   ]
  },
  {
   "cell_type": "code",
   "execution_count": 34,
   "id": "bf69fd93",
   "metadata": {},
   "outputs": [
    {
     "data": {
      "text/plain": [
       "array([[17,  4, 12, 38, 41],\n",
       "       [13, 11,  2, 10, 41],\n",
       "       [11, 27, 25,  9, 20],\n",
       "       [42, 47, 10,  8, 42]])"
      ]
     },
     "execution_count": 34,
     "metadata": {},
     "output_type": "execute_result"
    }
   ],
   "source": [
    "rand_arr.reshape(4,5)"
   ]
  },
  {
   "cell_type": "code",
   "execution_count": 36,
   "id": "28c96b04",
   "metadata": {},
   "outputs": [
    {
     "data": {
      "text/plain": [
       "array([[17,  4, 12, 38],\n",
       "       [41, 13, 11,  2],\n",
       "       [10, 41, 11, 27],\n",
       "       [25,  9, 20, 42],\n",
       "       [47, 10,  8, 42]])"
      ]
     },
     "execution_count": 36,
     "metadata": {},
     "output_type": "execute_result"
    }
   ],
   "source": [
    "rand_arr.reshape(5,4)"
   ]
  },
  {
   "cell_type": "code",
   "execution_count": 37,
   "id": "9f97ab16",
   "metadata": {},
   "outputs": [],
   "source": [
    "second_arr = np.arange(20)"
   ]
  },
  {
   "cell_type": "code",
   "execution_count": 38,
   "id": "45804bf4",
   "metadata": {},
   "outputs": [
    {
     "data": {
      "text/plain": [
       "array([ 0,  1,  2,  3,  4,  5,  6,  7,  8,  9, 10, 11, 12, 13, 14, 15, 16,\n",
       "       17, 18, 19])"
      ]
     },
     "execution_count": 38,
     "metadata": {},
     "output_type": "execute_result"
    }
   ],
   "source": [
    "second_arr"
   ]
  },
  {
   "cell_type": "code",
   "execution_count": 39,
   "id": "906537c8",
   "metadata": {},
   "outputs": [
    {
     "data": {
      "text/plain": [
       "array([[ 0,  1,  2,  3,  4,  5,  6,  7,  8,  9],\n",
       "       [10, 11, 12, 13, 14, 15, 16, 17, 18, 19]])"
      ]
     },
     "execution_count": 39,
     "metadata": {},
     "output_type": "execute_result"
    }
   ],
   "source": [
    "second_arr.reshape(2,10)"
   ]
  },
  {
   "cell_type": "code",
   "execution_count": 40,
   "id": "25b7eaca",
   "metadata": {},
   "outputs": [
    {
     "data": {
      "text/plain": [
       "19"
      ]
     },
     "execution_count": 40,
     "metadata": {},
     "output_type": "execute_result"
    }
   ],
   "source": [
    "second_arr.max()"
   ]
  },
  {
   "cell_type": "code",
   "execution_count": 41,
   "id": "4f0a9ea3",
   "metadata": {},
   "outputs": [
    {
     "data": {
      "text/plain": [
       "0"
      ]
     },
     "execution_count": 41,
     "metadata": {},
     "output_type": "execute_result"
    }
   ],
   "source": [
    "second_arr.min()"
   ]
  },
  {
   "cell_type": "code",
   "execution_count": 42,
   "id": "7a4180ca",
   "metadata": {},
   "outputs": [
    {
     "data": {
      "text/plain": [
       "19"
      ]
     },
     "execution_count": 42,
     "metadata": {},
     "output_type": "execute_result"
    }
   ],
   "source": [
    "second_arr.argmax()"
   ]
  },
  {
   "cell_type": "code",
   "execution_count": 43,
   "id": "c8cc4d55",
   "metadata": {},
   "outputs": [
    {
     "data": {
      "text/plain": [
       "(20,)"
      ]
     },
     "execution_count": 43,
     "metadata": {},
     "output_type": "execute_result"
    }
   ],
   "source": [
    "second_arr.shape"
   ]
  },
  {
   "cell_type": "code",
   "execution_count": 44,
   "id": "694a4a74",
   "metadata": {},
   "outputs": [],
   "source": [
    "reshaped_arr=second_arr.reshape(2,10)"
   ]
  },
  {
   "cell_type": "code",
   "execution_count": 45,
   "id": "c336b13e",
   "metadata": {},
   "outputs": [
    {
     "data": {
      "text/plain": [
       "array([[ 0,  1,  2,  3,  4,  5,  6,  7,  8,  9],\n",
       "       [10, 11, 12, 13, 14, 15, 16, 17, 18, 19]])"
      ]
     },
     "execution_count": 45,
     "metadata": {},
     "output_type": "execute_result"
    }
   ],
   "source": [
    "reshaped_arr"
   ]
  },
  {
   "cell_type": "code",
   "execution_count": 46,
   "id": "6ec95b37",
   "metadata": {},
   "outputs": [
    {
     "data": {
      "text/plain": [
       "(2, 10)"
      ]
     },
     "execution_count": 46,
     "metadata": {},
     "output_type": "execute_result"
    }
   ],
   "source": [
    "reshaped_arr.shape"
   ]
  },
  {
   "cell_type": "code",
   "execution_count": 47,
   "id": "27c530ad",
   "metadata": {},
   "outputs": [
    {
     "data": {
      "text/plain": [
       "dtype('int32')"
      ]
     },
     "execution_count": 47,
     "metadata": {},
     "output_type": "execute_result"
    }
   ],
   "source": [
    "reshaped_arr.dtype"
   ]
  },
  {
   "cell_type": "code",
   "execution_count": null,
   "id": "aad5dbd0",
   "metadata": {},
   "outputs": [],
   "source": []
  }
 ],
 "metadata": {
  "kernelspec": {
   "display_name": "Python 3 (ipykernel)",
   "language": "python",
   "name": "python3"
  },
  "language_info": {
   "codemirror_mode": {
    "name": "ipython",
    "version": 3
   },
   "file_extension": ".py",
   "mimetype": "text/x-python",
   "name": "python",
   "nbconvert_exporter": "python",
   "pygments_lexer": "ipython3",
   "version": "3.8.7"
  }
 },
 "nbformat": 4,
 "nbformat_minor": 5
}
